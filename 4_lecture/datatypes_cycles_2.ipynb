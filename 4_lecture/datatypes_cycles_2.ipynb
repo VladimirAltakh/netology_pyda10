{
 "cells": [
  {
   "cell_type": "markdown",
   "metadata": {},
   "source": [
    "**Задание 1**. Дан список с визитами по городам и странам. \n",
    "Напишите код, который возвращает отфильтрованный список geo_logs, содержащий только визиты из России."
   ]
  },
  {
   "cell_type": "code",
   "execution_count": 41,
   "metadata": {},
   "outputs": [
    {
     "name": "stdout",
     "output_type": "stream",
     "text": [
      "Список городов:\n",
      "Архангельск\n",
      "Владимир\n",
      "Курск\n",
      "Москва\n",
      "Тула\n"
     ]
    }
   ],
   "source": [
    "geo_logs = [\n",
    "    {'visit1': ['Москва', 'Россия']},\n",
    "    {'visit2': ['Дели', 'Индия']},\n",
    "    {'visit3': ['Владимир', 'Россия']},\n",
    "    {'visit4': ['Лиссабон', 'Португалия']},\n",
    "    {'visit5': ['Париж', 'Франция']},\n",
    "    {'visit6': ['Лиссабон', 'Португалия']},\n",
    "    {'visit7': ['Тула', 'Россия']},\n",
    "    {'visit8': ['Тула', 'Россия']},\n",
    "    {'visit9': ['Курск', 'Россия']},\n",
    "    {'visit10': ['Архангельск', 'Россия']}\n",
    "]\n",
    "\n",
    "city = []\n",
    "for visit in geo_logs:\n",
    "    for el in visit.values():\n",
    "        if el[1] == 'Россия':\n",
    "            city.append(el[0])\n",
    "print(f'Список посещенных городов России:')\n",
    "city_result = set(city)\n",
    "for el in sorted(city_result):\n",
    "    print(f'{el}')"
   ]
  },
  {
   "cell_type": "markdown",
   "metadata": {},
   "source": [
    "**Задание 2**. Выведите на экран все уникальные гео-ID из значений словаря ids. Т. е. список вида [213, 15, 54, 119, 98, 35]"
   ]
  },
  {
   "cell_type": "code",
   "execution_count": 46,
   "metadata": {},
   "outputs": [
    {
     "name": "stdout",
     "output_type": "stream",
     "text": [
      "Уникальные числа: {98, 35, 213, 54, 119, 15}\n"
     ]
    }
   ],
   "source": [
    "ids = {'user1': [213, 213, 213, 15, 213], \n",
    "       'user2': [54, 54, 119, 119, 119], \n",
    "       'user3': [213, 98, 98, 35]}\n",
    "res = set()\n",
    "for id in ids.values():\n",
    "    res_id = set(id)\n",
    "    res = res.union(res_id)\n",
    "print(f'Уникальные числа: {res}')"
   ]
  },
  {
   "cell_type": "markdown",
   "metadata": {},
   "source": [
    "**Задание 3**. Дан список поисковых запросов. Получить распределение количества слов в них. \n",
    "Т. е. поисковых запросов из одного - слова 5%, из двух - 7%, из трех - 3% и т.д."
   ]
  },
  {
   "cell_type": "code",
   "execution_count": 67,
   "metadata": {},
   "outputs": [
    {
     "name": "stdout",
     "output_type": "stream",
     "text": [
      "фраза из 2 слов: 43%\n",
      "фраза из 3 слов: 57%\n"
     ]
    }
   ],
   "source": [
    "queries = [\n",
    "    'смотреть сериалы онлайн',\n",
    "    'новости спорта',\n",
    "    'афиша кино',\n",
    "    'курс доллара',\n",
    "    'сериалы этим летом',\n",
    "    'курс по питону',\n",
    "    'сериалы про спорт',\n",
    "]\n",
    "\n",
    "data = []\n",
    "for el in queries:\n",
    "    data.append(el.count(' ') + 1)\n",
    "it_word = 1\n",
    "while it_word != (1 + max(data)):\n",
    "    if it_word == 1 and data.count(it_word) > 0:\n",
    "        print(f'фраза из 1 слова: {round(100 * data.count(it_word) / len(data))}%')\n",
    "    elif data.count(it_word) > 0:\n",
    "        print(f'фраза из {it_word} слов: {round(100 * data.count(it_word) / len(data))}%')\n",
    "    it_word += 1"
   ]
  },
  {
   "cell_type": "markdown",
   "metadata": {},
   "source": [
    "**Задание 4**. Дана статистика рекламных каналов по объемам продаж. Напишите скрипт, который возвращает название канала с максимальным объемом.\n",
    "Т. е. в данном примере скрипт должен возвращать 'yandex'."
   ]
  },
  {
   "cell_type": "code",
   "execution_count": 76,
   "metadata": {},
   "outputs": [
    {
     "name": "stdout",
     "output_type": "stream",
     "text": [
      "Канал с максимальными объемами продаж: vk\n"
     ]
    }
   ],
   "source": [
    "stats = {'facebook': 55, 'yandex': 120, 'vk': 115, 'google': 99, 'email': 42, 'ok': 98}\n",
    "\n",
    "needle = max(stats.values())\n",
    "for id_stats, v_stats in stats.items():\n",
    "        if v_stats == needle:\n",
    "            print(f'Канал с максимальными объемами продаж: {id_stats}')\n",
    "            break\n"
   ]
  },
  {
   "cell_type": "markdown",
   "metadata": {},
   "source": [
    "**Задание 5**. Напишите код для преобразования произвольного списка вида ['2018-01-01', 'yandex', 'cpc', 100] (он может быть любой длины) в словарь {'2018-01-01': {'yandex': {'cpc': 100}}}"
   ]
  },
  {
   "cell_type": "code",
   "execution_count": 113,
   "metadata": {},
   "outputs": [
    {
     "data": {
      "text/plain": [
       "{'2018-01-01': {'yandex': {'cpc': {100: 200}}}}"
      ]
     },
     "execution_count": 113,
     "metadata": {},
     "output_type": "execute_result"
    }
   ],
   "source": [
    "data=['2018-01-01', 'yandex', 'cpc', 100, 200]\n",
    "\n",
    "data2 = {}\n",
    "data3 = {}\n",
    "it = len(data) - 2\n",
    "data2[data[it]]=data[-1]\n",
    "indicator = 0\n",
    "while it != 0:\n",
    "    if indicator == 0:\n",
    "        data3[data[it-1]]=data2\n",
    "        data2 = {}\n",
    "        indicator = 1\n",
    "    else:\n",
    "        data2[data[it-1]]=data3\n",
    "        data3 = {}\n",
    "        indicator = 0\n",
    "    it -= 1\n",
    "result = {}\n",
    "if len(data) % 2 == 0:\n",
    "    result = data2\n",
    "else:\n",
    "    result = data3\n",
    "result"
   ]
  }
 ],
 "metadata": {
  "kernelspec": {
   "display_name": "Python 3",
   "language": "python",
   "name": "python3"
  },
  "language_info": {
   "codemirror_mode": {
    "name": "ipython",
    "version": 3
   },
   "file_extension": ".py",
   "mimetype": "text/x-python",
   "name": "python",
   "nbconvert_exporter": "python",
   "pygments_lexer": "ipython3",
   "version": "3.7.6"
  }
 },
 "nbformat": 4,
 "nbformat_minor": 2
}
