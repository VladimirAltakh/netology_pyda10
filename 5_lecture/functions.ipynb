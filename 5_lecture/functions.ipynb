{
 "cells": [
  {
   "cell_type": "markdown",
   "metadata": {},
   "source": [
    "Вы работаете секретарем и вам постоянно приходят различные документы. Вы должны быть очень внимательны, чтобы не потерять ни один документ. Каталог документов хранится в следующем виде:"
   ]
  },
  {
   "cell_type": "code",
   "execution_count": 1,
   "metadata": {},
   "outputs": [],
   "source": [
    "documents = [\n",
    "    {'type': 'passport', 'number': '2207 876234', 'name': 'Василий Гупкин'},\n",
    "    {'type': 'invoice', 'number': '11-2', 'name': 'Геннадий Покемонов'},\n",
    "    {'type': 'insurance', 'number': '10006', 'name': 'Аристарх Павлов'}\n",
    "]"
   ]
  },
  {
   "cell_type": "markdown",
   "metadata": {},
   "source": [
    "Перечень полок, на которых находятся документы хранится в следующем виде:"
   ]
  },
  {
   "cell_type": "code",
   "execution_count": 2,
   "metadata": {},
   "outputs": [],
   "source": [
    "directories = {\n",
    "    '1': ['2207 876234', '11-2'],\n",
    "    '2': ['10006'],\n",
    "    '3': []\n",
    "}"
   ]
  },
  {
   "cell_type": "markdown",
   "metadata": {},
   "source": [
    "Необходимо реализовать пользовательские команды (внимание! это не название функций, которые должны быть выразительными, а команды, которые вводит пользователь, чтобы получить необходимый результат):\n",
    "  \n",
    "- p – people – команда, которая спросит номер документа и выведет имя человека, которому он принадлежит;  \n",
    "- s – shelf – команда, которая спросит номер документа и выведет номер полки, на которой он находится  \n",
    "*Правильно обработайте ситуации, когда пользователь будет вводить несуществующий документ*.\n",
    "- l – list – команда, которая выведет список всех документов в формате   \n",
    "**passport \"2207 876234\" \"Василий Гупкин\"**  \n",
    "- as – add shelf – команда, которая спросит номер новой полки и добавит ее в перечень. *Предусмотрите случай, когда пользователь добавляет полку, которая уже существует*.\n",
    "- d – delete – команда, которая спросит номер документа и удалит его из каталога и из перечня полок. *Предусмотрите сценарий, когда пользователь вводит несуществующий документ*;  \n",
    "- m – move – команда, которая спросит номер документа и целевую полку и переместит его с текущей полки на целевую. *Корректно обработайте кейсы, когда пользователь пытается переместить несуществующий документ или переместить документ на несуществующую полку*;  \n",
    "- a – add – команда, которая добавит новый документ в каталог и в перечень полок, спросив его номер, тип, имя владельца и номер полки, на котором он будет храниться. *Корректно обработайте ситуацию, когда пользователь будет пытаться добавить документ на несуществующую полку*."
   ]
  },
  {
   "cell_type": "code",
   "execution_count": 3,
   "metadata": {},
   "outputs": [],
   "source": [
    "def call_people(documents):\n",
    "    people = input('введите номер документа? ')\n",
    "    fl_name = 0\n",
    "    for el in documents:\n",
    "        if el['number'] == people:\n",
    "            print(el['name'])\n",
    "            fl_name = 1\n",
    "            break\n",
    "    if fl_name == 0:\n",
    "        print('Человека с такими документами в базе данных нет')"
   ]
  },
  {
   "cell_type": "code",
   "execution_count": 4,
   "metadata": {},
   "outputs": [],
   "source": [
    "def shelf_doc(directories):\n",
    "    doc = input('введите номер документа? ')\n",
    "    fl_name = 0\n",
    "    for shelf, el in directories.items():\n",
    "        if doc in el:\n",
    "            print(shelf)\n",
    "            fl_name = 1\n",
    "            break\n",
    "    if fl_name == 0:\n",
    "        print('Такого документа нет')"
   ]
  },
  {
   "cell_type": "code",
   "execution_count": 5,
   "metadata": {},
   "outputs": [],
   "source": [
    "def list_print(documents):\n",
    "    for el in documents:\n",
    "        print(f'{el[\"type\"]} \"{el[\"number\"]}\" \"{el[\"name\"]}\"')"
   ]
  },
  {
   "cell_type": "code",
   "execution_count": 6,
   "metadata": {},
   "outputs": [],
   "source": [
    "def add_shelf(directories):\n",
    "    shelf_new = input('Введите новый номер полки ')\n",
    "    if shelf_new in directories:\n",
    "        print('Данная полка уже существует')\n",
    "    else: \n",
    "        directories[shelf_new]=[]"
   ]
  },
  {
   "cell_type": "code",
   "execution_count": 7,
   "metadata": {},
   "outputs": [],
   "source": [
    "def add_documents(documents, directories):\n",
    "    type_documents = input('Введите тип документа ')\n",
    "    num_documents = input('Введите номер документа ')\n",
    "    name_documents = input('Введите владельца документа ')\n",
    "    num_shelf = input('Введите полку для документа ')\n",
    "    if num_shelf not in directories:\n",
    "        print('Такой полки не существует')\n",
    "    else:\n",
    "        documents.append({'type': type_documents, 'number': num_documents, 'name': name_documents})\n",
    "        directories[num_shelf].append(num_documents) "
   ]
  },
  {
   "cell_type": "code",
   "execution_count": 8,
   "metadata": {},
   "outputs": [],
   "source": [
    "def delete_doc(documents, directories):\n",
    "    num_documents = input('Введите номер удаляемого документа ')\n",
    "    fl_exist = 0\n",
    "    for el in directories.values():\n",
    "        if num_documents in el:\n",
    "            el.remove(num_documents)\n",
    "            fl_exist = 1\n",
    "        \n",
    "    if fl_exist == 0:\n",
    "        print('документ не существует')\n",
    "    else:\n",
    "        for doc in documents:\n",
    "            if doc['number'] == num_documents:\n",
    "                documents.remove(doc)"
   ]
  },
  {
   "cell_type": "code",
   "execution_count": 9,
   "metadata": {},
   "outputs": [],
   "source": [
    "def move_doc(directories):\n",
    "    num_documents = input('Введите номер перемещаемого документа ')\n",
    "    shelf_new = input('Введите номер полки куда перемещаем ')\n",
    "    fl_exist = 0\n",
    "    if shelf_new not in directories:\n",
    "        print('Данной полки не существует')\n",
    "    else:\n",
    "        for el in directories.values():\n",
    "            if num_documents in el:\n",
    "                el.remove(num_documents)\n",
    "                fl_exist = 1\n",
    "                \n",
    "        if fl_exist == 0:\n",
    "            print('Данного документа не существует')\n",
    "        else:\n",
    "            directories[shelf_new].append(num_documents)"
   ]
  },
  {
   "cell_type": "code",
   "execution_count": 10,
   "metadata": {},
   "outputs": [],
   "source": [
    "def main():\n",
    "    while True:\n",
    "        print('\\nМеню команд:')\n",
    "        print('p - найти кому принадлежит документ')\n",
    "        print('s - найти полку где лежит документ')\n",
    "        print('l - вывести все документы')\n",
    "        print('as - добавить новую полку')\n",
    "        print('d - удалить документ')\n",
    "        print('m - переместить документ')\n",
    "        print('a - добавить документ')\n",
    "        print('q - выход')\n",
    "        user_input=input('Введите команда: ')\n",
    "        if user_input == 'p':\n",
    "            call_people(documents)\n",
    "        elif user_input == 's':\n",
    "            shelf_doc(directories)\n",
    "        elif user_input == 'l':\n",
    "            list_print(documents)\n",
    "        elif user_input == 'as':\n",
    "            add_shelf(directories)\n",
    "        elif user_input == 'd':\n",
    "            delete_doc(documents, directories)\n",
    "        elif user_input == 'm':\n",
    "            move_doc(directories)\n",
    "        elif user_input == 'a':\n",
    "            add_documents(documents, directories)\n",
    "        elif user_input == 'q':\n",
    "            break"
   ]
  },
  {
   "cell_type": "code",
   "execution_count": 11,
   "metadata": {},
   "outputs": [
    {
     "name": "stdout",
     "output_type": "stream",
     "text": [
      "\n",
      "Меню команд:\n",
      "p - найти кому принадлежит документ\n",
      "s - найти полку где лежит документ\n",
      "l - вывести все документы\n",
      "as - добавить новую полку\n",
      "d - удалить документ\n",
      "m - переместить документ\n",
      "a - добавить документ\n",
      "q - выход\n",
      "Введите команда: q\n"
     ]
    }
   ],
   "source": [
    "main()"
   ]
  },
  {
   "cell_type": "markdown",
   "metadata": {},
   "source": []
  }
 ],
 "metadata": {
  "kernelspec": {
   "display_name": "Python 3",
   "language": "python",
   "name": "python3"
  },
  "language_info": {
   "codemirror_mode": {
    "name": "ipython",
    "version": 3
   },
   "file_extension": ".py",
   "mimetype": "text/x-python",
   "name": "python",
   "nbconvert_exporter": "python",
   "pygments_lexer": "ipython3",
   "version": "3.7.6"
  }
 },
 "nbformat": 4,
 "nbformat_minor": 2
}
