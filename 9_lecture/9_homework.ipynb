{
 "cells": [
  {
   "cell_type": "markdown",
   "metadata": {},
   "source": [
    "### Задание 1.\n",
    "Напишите функцию, которая принимает на вход строку и проверяет является ли она валидным транспортным номером. Если да, то функция должна возвращать отдельно номер и регион."
   ]
  },
  {
   "cell_type": "code",
   "execution_count": 134,
   "metadata": {},
   "outputs": [],
   "source": [
    "import re"
   ]
  },
  {
   "cell_type": "code",
   "execution_count": 66,
   "metadata": {},
   "outputs": [],
   "source": [
    "def auto_num(line):\n",
    "    if len(number) == 8 or len(number) == 9:\n",
    "        result = []\n",
    "        regex_number = r'([а-я]{1})(\\d{3})([а-я]{2})(\\d{2,3})'\n",
    "        num_result = re.findall(regex_number, line)\n",
    "        if len(num_result) > 0:\n",
    "            result.append(num_result[0][1])\n",
    "            result.append(num_result[0][3])\n",
    "            return result\n",
    "        else:\n",
    "            return None\n",
    "    else:\n",
    "        return None"
   ]
  },
  {
   "cell_type": "code",
   "execution_count": 68,
   "metadata": {},
   "outputs": [
    {
     "data": {
      "text/plain": [
       "['335', '96']"
      ]
     },
     "execution_count": 68,
     "metadata": {},
     "output_type": "execute_result"
    }
   ],
   "source": [
    "number = 'а335ке96'\n",
    "test = auto_num(number)\n",
    "test"
   ]
  },
  {
   "cell_type": "markdown",
   "metadata": {},
   "source": [
    "### Задание 2.\n",
    "Постарайтесь написать (в крайнем случае найти) самый полный шаблон для проверки e-mail адресов через регулярное выражение, которая проверяет e-mail адрес на валидность. Можно руководствоваться следующими минимальными требованиями:\n",
    "\n",
    "1) адрес должен содержать специальный символ “@”, который отделяет имя пользователя почтовой системы от доменного имени;\n",
    "\n",
    "2) адрес не должен содержать следующие символы: “пробел”, “,”, “:”, “;”, “!”, “#”, “%”, “*”, “(”, “)”, “=”, “+”, “{”, “}”, \" \" \", \" ’ \", \" / \", \" \\ \" и “|”;\n",
    "\n",
    "3) адрес должен состоять только из латинских символов;\n",
    "\n",
    "4) после символа “@” должна быть как минимум одна “.”;\n",
    "\n",
    "5) после последней точки должно быть не менее 2-х и не более 4-х символов, причем наличие цифр не допускается;\n",
    "\n",
    "6) между последней точкой и символом “@” должно быть не менее 2-х символов\n",
    "\n",
    "7) слева от “@” должно быть не менее четырех символов"
   ]
  },
  {
   "cell_type": "code",
   "execution_count": 114,
   "metadata": {},
   "outputs": [
    {
     "data": {
      "text/plain": [
       "['asxcxas@dsu.Wer']"
      ]
     },
     "execution_count": 114,
     "metadata": {},
     "output_type": "execute_result"
    }
   ],
   "source": [
    "regex_email = r'^[a-zA-Z.]{4,}@[a-zA-Z.]{2,}\\.[a-zA-Z]{2,4}'\n",
    "line = 'asxcxas@dsu.Wer'\n",
    "email_result = re.findall(regex_email, line)\n",
    "email_result"
   ]
  },
  {
   "cell_type": "markdown",
   "metadata": {},
   "source": [
    "### Задание 3\n",
    "Напишите функцию, которая будет удалять все последовательные повторы слов из заданной строки при помощи регулярных выражений."
   ]
  },
  {
   "cell_type": "code",
   "execution_count": 120,
   "metadata": {},
   "outputs": [],
   "source": [
    "words = 'ssddsd ssddsd sdsd sdsd'"
   ]
  },
  {
   "cell_type": "code",
   "execution_count": 123,
   "metadata": {},
   "outputs": [
    {
     "data": {
      "text/plain": [
       "'ssddsd sdsd'"
      ]
     },
     "execution_count": 123,
     "metadata": {},
     "output_type": "execute_result"
    }
   ],
   "source": [
    "re.sub(r'\\b(\\w+)(?:\\s+\\1\\b)+', r'\\1', words)"
   ]
  },
  {
   "cell_type": "markdown",
   "metadata": {},
   "source": [
    "### Задание 4.\n",
    "Напишите функцию, которая будет проверять номер сотового телефона на валидность, если он валиден, то переводить его в формат:\n",
    "+7(xxx)-xxx-xx-xx\n",
    "Постарайтесь предусмотреть как можно больше адекватных форматов изначального ввода номера. Примеры валидных форматов:\n",
    "\n",
    "+7 955 555-55-55;\n",
    "9555555555;\n",
    "8(955)555-55-55;\n",
    "+7 955 555 55 55;\n",
    "7(955) 555-55-55;\n",
    "+7 955+555+55+55."
   ]
  },
  {
   "cell_type": "code",
   "execution_count": 207,
   "metadata": {},
   "outputs": [],
   "source": [
    "def num_phone(line):\n",
    "    regex_phone = r'\\+7\\s(\\d{3})\\s(\\d{3})-(\\d{2})-(\\d{2})'\n",
    "    if len(re.findall(regex_phone, line)) > 0:\n",
    "        return re.sub(regex_phone, r'+7(\\1)-\\2-\\3-\\4', line)\n",
    "    regex_phone2 = r'(\\d{3})(\\d{3})(\\d{2})(\\d{2})'\n",
    "    if len(re.findall(regex_phone2, line)) > 0 and len(line) == 10:\n",
    "        return re.sub(regex_phone2, r'+7(\\1)-\\2-\\3-\\4', line)\n",
    "    regex_phone3 = r'8\\((\\d{3})\\)(\\d{3})-(\\d{2})-(\\d{2})'\n",
    "    if len(re.findall(regex_phone3, line)) > 0:\n",
    "        return re.sub(regex_phone3, r'+7(\\1)-\\2-\\3-\\4', line)\n",
    "    regex_phone4 = r'\\+7\\s(\\d{3})\\s(\\d{3})\\s(\\d{2})\\s(\\d{2})'\n",
    "    if len(re.findall(regex_phone4, line)) > 0:\n",
    "        return re.sub(regex_phone4, r'+7(\\1)-\\2-\\3-\\4', line)\n",
    "    regex_phone5 = r'7\\((\\d{3})\\)\\s(\\d{3})-(\\d{2})-(\\d{2})'\n",
    "    if len(re.findall(regex_phone5, line)) > 0:\n",
    "        return re.sub(regex_phone5, r'+7(\\1)-\\2-\\3-\\4', line)\n",
    "    regex_phone6 = r'\\+7\\s(\\d{3})\\+(\\d{3})\\+(\\d{2})\\+(\\d{2})'\n",
    "    if len(re.findall(regex_phone6, line)) > 0:\n",
    "        return re.sub(regex_phone6, r'+7(\\1)-\\2-\\3-\\4', line)\n",
    "    else:\n",
    "        return None"
   ]
  },
  {
   "cell_type": "code",
   "execution_count": 208,
   "metadata": {},
   "outputs": [
    {
     "name": "stdout",
     "output_type": "stream",
     "text": [
      "+7(955)-555-55-55\n"
     ]
    }
   ],
   "source": [
    "res = num_phone('+7 955+555+55+55')\n",
    "print(res)"
   ]
  }
 ],
 "metadata": {
  "kernelspec": {
   "display_name": "Python 3",
   "language": "python",
   "name": "python3"
  },
  "language_info": {
   "codemirror_mode": {
    "name": "ipython",
    "version": 3
   },
   "file_extension": ".py",
   "mimetype": "text/x-python",
   "name": "python",
   "nbconvert_exporter": "python",
   "pygments_lexer": "ipython3",
   "version": "3.7.6"
  }
 },
 "nbformat": 4,
 "nbformat_minor": 4
}
